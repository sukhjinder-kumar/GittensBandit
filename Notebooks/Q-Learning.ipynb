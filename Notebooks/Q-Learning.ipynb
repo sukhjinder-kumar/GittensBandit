{
 "cells": [
  {
   "cell_type": "code",
   "execution_count": 2,
   "id": "180b10ef-ba87-48f1-a639-3e82d397ea8f",
   "metadata": {},
   "outputs": [],
   "source": [
    "import os\n",
    "os.chdir('/Users/sukhmac/Programming/FunCoding/Research/RLProgramming/GittenBandit')  # Set the correct path to your project root"
   ]
  },
  {
   "cell_type": "code",
   "execution_count": 5,
   "id": "cffa0acb-593b-44e6-8ee4-d966530f015b",
   "metadata": {},
   "outputs": [],
   "source": [
    "import numpy as np\n",
    "import matplotlib.pyplot as plt\n",
    "from tqdm import tqdm\n",
    "from Environment.mab_environment import KArmedBandit\n",
    "from Environment.test_cases import test3\n",
    "from Strategies.strategy_interface import StrategyInterface"
   ]
  },
  {
   "cell_type": "code",
   "execution_count": null,
   "id": "c924f43c-a4d2-434d-aee4-d9107068c9dd",
   "metadata": {},
   "outputs": [],
   "source": [
    "class QLearning(Strategy):"
   ]
  }
 ],
 "metadata": {
  "kernelspec": {
   "display_name": "Python 3 (ipykernel)",
   "language": "python",
   "name": "python3"
  },
  "language_info": {
   "codemirror_mode": {
    "name": "ipython",
    "version": 3
   },
   "file_extension": ".py",
   "mimetype": "text/x-python",
   "name": "python",
   "nbconvert_exporter": "python",
   "pygments_lexer": "ipython3",
   "version": "3.9.6"
  }
 },
 "nbformat": 4,
 "nbformat_minor": 5
}
