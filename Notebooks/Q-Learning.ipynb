{
 "cells": [
  {
   "cell_type": "code",
   "execution_count": 2,
   "id": "180b10ef-ba87-48f1-a639-3e82d397ea8f",
   "metadata": {},
   "outputs": [],
   "source": [
    "import os\n",
    "os.chdir('/Users/sukhmac/Programming/FunCoding/Research/RLProgramming/GittenBandit')  # Set the correct path to your project root"
   ]
  },
  {
   "cell_type": "code",
   "execution_count": 5,
   "id": "cffa0acb-593b-44e6-8ee4-d966530f015b",
   "metadata": {},
   "outputs": [],
   "source": [
    "import numpy as np\n",
    "import matplotlib.pyplot as plt\n",
    "from tqdm import tqdm\n",
    "from Environment.mab_environment import KArmedBandit\n",
    "from Environment.test_cases import test3\n",
    "from Strategies.strategy_interface import StrategyInterface"
   ]
  },
  {
   "cell_type": "code",
   "execution_count": null,
   "id": "c924f43c-a4d2-434d-aee4-d9107068c9dd",
   "metadata": {},
   "outputs": [],
   "source": [
    "class QLearning(Strategy):\n",
    "    def __init__(self, \n",
    "                 num_arms,\n",
    "                 num_states_per_arm, \n",
    "                 init_learning_rate, \n",
    "                 discount_factor, \n",
    "                 temperature_mode):\n",
    "        super().__init__(\"QLearning\", self)\n",
    "        self.k = num_arms  # Number of arms (tasks)\n",
    "        self.n = num_states_per_arm  # Number of states per task\n",
    "        \n",
    "        # Initialize the Q-table: (cur_state, action, restart_state, task)\n",
    "        self.q_table = np.zeros((self.n, 2, self.n, self.k))  # Actions: 0 = Continue (C), 1 = Restart (R)\n",
    "        \n",
    "        self.init_learning_rate = init_learning_rate  # adaptive learning rate based on Barto et al 1991 (Appendix B)\n",
    "        self.tau = 300\n",
    "        self.cur_learning_rate = np.full((self.n, 2, self.n, self.k), self.init_learning_rate)  # lr for each q value in the Q table\n",
    "        self.num_updates_q_table = np.zeros((self.n, 2, self.n, self.k))  # stores how many updates for each q value have been performed\n",
    "        \n",
    "        self.discount_factor = discount_factor\n",
    "\n",
    "        self.temperature_mode = temperature_mode\n",
    "        if self.temperature_mode == \"Boltzmann\":\n",
    "            self.max_temp = 200  # Boltzmann temperature\n",
    "            self.min_temp = 0.5  # based on Barto et al 1991 (Appendix B)\n",
    "            self.cur_temp = self.max_temp\n",
    "            self.beta = 0.992\n",
    "        elif self.temperature_mode == \"epsilon-greedy-gittin\":\n",
    "            self.epsilon_greedy = 0.1  # probability of picking action at random\n",
    "        \n",
    "        self.time_steps = time_steps\n",
    "        self.cur_time_step = 0\n",
    "\n",
    "        self.gittin_history = np.zeros((self.time_steps, self.k, self.n))  # = q_table(i, 0, i, k) history after every update step\n"
   ]
  }
 ],
 "metadata": {
  "kernelspec": {
   "display_name": "Python 3 (ipykernel)",
   "language": "python",
   "name": "python3"
  },
  "language_info": {
   "codemirror_mode": {
    "name": "ipython",
    "version": 3
   },
   "file_extension": ".py",
   "mimetype": "text/x-python",
   "name": "python",
   "nbconvert_exporter": "python",
   "pygments_lexer": "ipython3",
   "version": "3.9.6"
  }
 },
 "nbformat": 4,
 "nbformat_minor": 5
}
