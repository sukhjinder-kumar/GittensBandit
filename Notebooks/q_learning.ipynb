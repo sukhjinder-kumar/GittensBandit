{
 "cells": [
  {
   "cell_type": "code",
   "execution_count": 2,
   "id": "180b10ef-ba87-48f1-a639-3e82d397ea8f",
   "metadata": {},
   "outputs": [],
   "source": [
    "import os\n",
    "os.chdir('/Users/sukhmac/Programming/FunCoding/Research/RLProgramming/GittenBandit')  # Set the correct path to your project root"
   ]
  },
  {
   "cell_type": "code",
   "execution_count": 3,
   "id": "cffa0acb-593b-44e6-8ee4-d966530f015b",
   "metadata": {},
   "outputs": [],
   "source": [
    "import numpy as np\n",
    "import matplotlib.pyplot as plt\n",
    "from tqdm import tqdm\n",
    "from Environment.mab_environment import Mab\n",
    "from Environment.test_cases import test1\n",
    "from Strategies.strategy_interface import StrategyInterface"
   ]
  },
  {
   "cell_type": "code",
   "execution_count": 4,
   "id": "c924f43c-a4d2-434d-aee4-d9107068c9dd",
   "metadata": {},
   "outputs": [],
   "source": [
    "class QLearning(StrategyInterface):\n",
    "    def __init__(self, \n",
    "                 num_arms,\n",
    "                 num_states_per_arm, \n",
    "                 init_learning_rate, \n",
    "                 discount_factor, \n",
    "                 temperature_mode):\n",
    "        super().__init__(\"QLearning\")\n",
    "        self.k = num_arms  # Number of arms (tasks)\n",
    "        self.n = num_states_per_arm  # Number of states per task\n",
    "        self.discount_factor = discount_factor\n",
    "        \n",
    "        # Initialize the Q-table: (cur_state, action, restart_state, task)\n",
    "        self.q_table = np.zeros((self.n, 2, self.n, self.k))  # Actions: 0 = Continue (C), 1 = Restart (R)\n",
    "        self.num_updates_q_table = np.zeros((self.n, 2, self.n, self.k))  # stores how many updates for each q value have been performed\n",
    "     \n",
    "        self.init_learning_rate = init_learning_rate  # adaptive learning rate based on Barto et al 1991 (Appendix B)\n",
    "        self.cur_learning_rate = np.full((self.n, 2, self.n, self.k), self.init_learning_rate)  # lr for each q value in the Q table\n",
    "        self.tau = 300  # used in updating cur_learning_rate\n",
    "        \n",
    "        self.temperature_mode = temperature_mode\n",
    "        if temperature_mode == \"Boltzmann\":\n",
    "            self.max_temp = 200  # Boltzmann temperature\n",
    "            self.min_temp = 0.5  # based on Barto et al 1991 (Appendix B)\n",
    "            self.cur_temp = self.max_temp\n",
    "            self.beta = 0.992  # used to update cur_temp\n",
    "        elif temperature_mode == \"epsilon-greedy-gittin\":\n",
    "            self.epsilon_greedy = 0.1  # probability of picking action at random\n",
    "\n",
    "    def get_action(self, cur_state):\n",
    "        if self.temperature_mode == \"Boltzmann\":\n",
    "            # Calculate the Boltzmann distribution for action selection based on current estimate of gittins index\n",
    "            action_probabilities = np.zeros(self.k)\n",
    "            total = 0\n",
    "            for i in range(self.k):\n",
    "                total += np.exp(self.q_table[cur_state[i], 0, cur_state[i], i] / self.cur_temp)\n",
    "            for i in range(self.k):\n",
    "                action_probabilities[i] = np.exp(self.q_table[cur_state[i], 0, cur_state[i], i] / self.cur_temp) / total\n",
    "                \n",
    "        elif self.temperature_mode == \"epsilon-greedy-gittin\":\n",
    "            # With 1-epsilon probability pick the arm with the state that has highest gitten value\n",
    "            # ,And with prob epsilon pick randomly\n",
    "            cur_gittens = np.array([self.q_table[cur_state[i], 0, cur_state[i], i] for i in range(self.k)])\n",
    "            best_gittens = np.argmax(cur_gittens)\n",
    "            action_probabilities = np.full(self.k, self.epsilon_greedy / self.k)\n",
    "            action_probabilities[best_gittens] += (1-self.epsilon_greedy)\n",
    "            \n",
    "        # Select action based on the probabilities\n",
    "        action = int(np.random.choice(range(self.k), p=action_probabilities))  # type: ignore\n",
    "        \n",
    "        return action, action_probabilities\n",
    "\n",
    "    def update(self, prev_state_of_selected_arm, cur_action, reward, cur_state_of_selected_arm):\n",
    "        i = prev_state_of_selected_arm\n",
    "        a = cur_action  # arm selected\n",
    "        r = reward\n",
    "        j = cur_state_of_selected_arm  # after transition state\n",
    "\n",
    "        # sorry for the overload of k, here it means any state reached after taking action from i, to i from k.\n",
    "        # don't confuse with self.k == num_arms, i-j-k seems more natural notation\n",
    "        \n",
    "        # update Q table\n",
    "        for k in range(self.n):\n",
    "            # Update for Continue (C)\n",
    "            current_q_value = self.q_table[i, 0, k, a]\n",
    "            max_next_q_value = max(self.q_table[j, 0, k, a], self.q_table[j, 1, k, a])\n",
    "            new_q_value = (1 - self.cur_learning_rate[i, 0, k, a]) * current_q_value + \\\n",
    "                            self.cur_learning_rate[i, 0, k, a] * (r + self.discount_factor * max_next_q_value)\n",
    "            self.q_table[i, 0, k, a] = new_q_value\n",
    "\n",
    "            # Update for Restart (R)\n",
    "            current_q_value_restart = self.q_table[k, 1, i, a]\n",
    "            max_next_q_value_restart = max(self.q_table[j, 0, i, a], self.q_table[j, 1, i, a])\n",
    "            new_q_value_restart = (1-self.cur_learning_rate[k, 1, i, a]) * current_q_value_restart + \\\n",
    "                                    self.cur_learning_rate[k, 1, i, a] * (r + self.discount_factor * max_next_q_value_restart)\n",
    "            self.q_table[k, 1, i, a] = new_q_value_restart\n",
    "\n",
    "        # update num_updates_q_table\n",
    "        for k in range(self.n):\n",
    "            self.num_updates_q_table[i, 0, k, a] += 1\n",
    "            self.num_updates_q_table[k, 1, i, a] += 1\n",
    "\n",
    "        # update learning rate\n",
    "        for k in range(self.n):\n",
    "            self.cur_learning_rate[i, 0, k, a] = (self.init_learning_rate * self.tau) / (self.tau + self.num_updates_q_table[i, 0, k, a]) \n",
    "            self.cur_learning_rate[k, 1, i, a] = (self.init_learning_rate * self.tau) / (self.tau + self.num_updates_q_table[k, 1, i, a]) \n",
    "\n",
    "        # decrease the temperature\n",
    "        if self.temperature_mode == \"Boltzmann\":\n",
    "            self.cur_temp = self.min_temp + self.beta * (self.cur_temp - self.min_temp)\n",
    "\n",
    "    def reset(self): \n",
    "        self.q_table = np.zeros((self.n, 2, self.n, self.k))\n",
    "        self.cur_learning_rate = np.full((self.n, 2, self.n, self.k), self.init_learning_rate)\n",
    "        self.num_updates_q_table = np.zeros((self.n, 2, self.n, self.k))\n",
    "        if self.temperature_mode == \"Boltzmann\":\n",
    "            self.cur_temp = self.max_temp"
   ]
  },
  {
   "cell_type": "code",
   "execution_count": 5,
   "id": "74342b81-cf8b-4588-adb2-4edb3a9a3c54",
   "metadata": {},
   "outputs": [],
   "source": [
    "def qlearning_visualize(gittin_history, save_path):\n",
    "    num_runs, time_steps, num_arms, num_states_per_arm = gittin_history.shape\n",
    "    \n",
    "    for k in range(num_arms):\n",
    "        for n in range(num_states_per_arm):\n",
    "            values = np.mean(gittin_history[:, :, k, n], axis=0)\n",
    "            plt.plot(values, label=f'({k},{n})')\n",
    "            \n",
    "            # Add index (k, n) as a text label above the line at the last time step\n",
    "            plt.text(time_steps - 1, values[-1], f'({k},{n})', \n",
    "                     fontsize=8, verticalalignment='bottom', horizontalalignment='left')\n",
    "    \n",
    "    # Add labels and title\n",
    "    plt.xlabel('Time')\n",
    "    plt.ylabel('Gittins Index')\n",
    "    plt.title('Trajectory of Gittins index for Each (kth arm, nth state) state Over Time')\n",
    "    \n",
    "    # Show legend\n",
    "    plt.legend(loc='upper left', bbox_to_anchor=(1.05, 1), fontsize='small', title='(k,n) Pairs')\n",
    "    \n",
    "    # Adjust layout to prevent overlap\n",
    "    plt.tight_layout(rect=[0, 0, 0.85, 1])\n",
    "    \n",
    "    # Save fig\n",
    "    plt.savefig(save_path)\n",
    "\n",
    "    # Display the plot\n",
    "    plt.show()"
   ]
  },
  {
   "cell_type": "code",
   "execution_count": 6,
   "id": "c60563fd-e53f-4d35-bec0-836a008efc6a",
   "metadata": {},
   "outputs": [
    {
     "name": "stderr",
     "output_type": "stream",
     "text": [
      "100%|██████████████████████████████████████████████████████████████████████████████████████████████████████████████| 2/2 [00:00<00:00, 138.83 #Run/s]\n"
     ]
    },
    {
     "name": "stdout",
     "output_type": "stream",
     "text": [
      "Training Finished!\n"
     ]
    },
    {
     "data": {
      "image/png": "[encoded data removed]",
      "text/plain": [
       "<Figure size 640x480 with 1 Axes>"
      ]
     },
     "metadata": {},
     "output_type": "display_data"
    },
    {
     "name": "stdout",
     "output_type": "stream",
     "text": [
      "Plot saved\n"
     ]
    }
   ],
   "source": [
    "num_epochs = 10\n",
    "num_runs = 2\n",
    "test = test1\n",
    "test_string = \"test1\"\n",
    "\n",
    "mab = Mab(num_arms = test.num_arms,\n",
    "          num_states_per_arm = test.num_states_per_arm,\n",
    "          transition_matrices = test.transition_matrices,\n",
    "          reward_matrices = test.reward_matrices,\n",
    "          initial_start_state = test.initial_start_state,\n",
    "          homogeneous = test.homogeneous)\n",
    "\n",
    "qlearning = QLearning(num_arms = test.num_arms, \n",
    "                      num_states_per_arm = test.num_states_per_arm,\n",
    "                      init_learning_rate = 0.5,\n",
    "                      discount_factor = test.discount_factor, \n",
    "                      temperature_mode = \"epsilon-greedy-gittin\")\n",
    "\n",
    "gittin_history = np.zeros((num_runs, num_epochs, test.num_arms, test.num_states_per_arm))\n",
    "\n",
    "for num_run in tqdm(range(num_runs), unit=\" #Run\"):\n",
    "    mab.reset(random=True)\n",
    "    qlearning.reset()\n",
    "    \n",
    "    for epoch in range(num_epochs):\n",
    "        cur_state = mab.get_cur_state()\n",
    "        cur_action, _ = qlearning.get_action(cur_state)\n",
    "        next_state, cur_reward = mab.step(cur_action)\n",
    "        qlearning.update(cur_state[cur_action], cur_action, cur_reward, next_state)\n",
    "\n",
    "        # Store gittins\n",
    "        for k in range(test.num_arms):\n",
    "            for n in range(test.num_states_per_arm):\n",
    "                gittin_history[num_run, epoch, k, n] = qlearning.q_table[n, 0, n, k]\n",
    "\n",
    "print(\"Training Finished!\")\n",
    "save_path = f'Results/QLearning/{test_string}_gittin_plot_num_runs={num_runs}_time_steps={num_epochs}.png'\n",
    "qlearning_visualize(gittin_history, save_path)\n",
    "print(\"Plot saved\")"
   ]
  },
  {
   "cell_type": "code",
   "execution_count": null,
   "id": "e0476ed1-e249-4138-995f-366bdb8cf943",
   "metadata": {},
   "outputs": [],
   "source": []
  },
  {
   "cell_type": "code",
   "execution_count": null,
   "id": "a1bdeef6-619e-4b6d-a849-20a13d887fde",
   "metadata": {},
   "outputs": [],
   "source": []
  },
  {
   "cell_type": "code",
   "execution_count": null,
   "id": "04a9b9c9-fcf6-4e96-9d6d-e2a3c1131113",
   "metadata": {},
   "outputs": [],
   "source": []
  },
  {
   "cell_type": "code",
   "execution_count": null,
   "id": "344f7cc9-6dc5-4ca3-8b2e-88aedd1cab0b",
   "metadata": {},
   "outputs": [],
   "source": []
  },
  {
   "cell_type": "code",
   "execution_count": null,
   "id": "9659f4b0-196e-4232-9416-b014a048d1a1",
   "metadata": {},
   "outputs": [],
   "source": []
  },
  {
   "cell_type": "code",
   "execution_count": null,
   "id": "34fce7b1-9161-4869-99a4-6d3d2948a198",
   "metadata": {},
   "outputs": [],
   "source": []
  }
 ],
 "metadata": {
  "kernelspec": {
   "display_name": "Python 3 (ipykernel)",
   "language": "python",
   "name": "python3"
  },
  "language_info": {
   "codemirror_mode": {
    "name": "ipython",
    "version": 3
   },
   "file_extension": ".py",
   "mimetype": "text/x-python",
   "name": "python",
   "nbconvert_exporter": "python",
   "pygments_lexer": "ipython3",
   "version": "3.9.6"
  }
 },
 "nbformat": 4,
 "nbformat_minor": 5
}
