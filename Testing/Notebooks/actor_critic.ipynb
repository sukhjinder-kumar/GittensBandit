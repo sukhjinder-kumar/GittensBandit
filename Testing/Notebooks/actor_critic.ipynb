{
 "cells": [
  {
   "cell_type": "code",
   "execution_count": 1,
   "id": "f0f6a304-c9ec-4c23-9017-0f11b6e1189f",
   "metadata": {},
   "outputs": [],
   "source": [
    "import os\n",
    "os.chdir('/Users/sukhmac/Programming/FunCoding/Research/RLProgramming/GittenBandit')  # Set the correct path to your project root"
   ]
  },
  {
   "cell_type": "code",
   "execution_count": 2,
   "id": "757af8bf-def4-46e8-a723-7e25cf4f35b8",
   "metadata": {},
   "outputs": [],
   "source": [
    "import numpy as np\n",
    "import torch\n",
    "import torch.nn as nn\n",
    "from torch.optim.adam import Adam\n",
    "\n",
    "from Environment.test_cases import test1, test2, test3\n",
    "from Environment.mab_environment import Mab\n",
    "from Strategies.strategy_interface import StrategyInterface\n",
    "import matplotlib.pyplot as plt\n",
    "from tqdm import tqdm"
   ]
  },
  {
   "cell_type": "code",
   "execution_count": null,
   "id": "0611deab-698a-467f-88ba-1f2fa1bb80e8",
   "metadata": {},
   "outputs": [],
   "source": [
    "# Issue:\n",
    "# How to simplify value function (~baseline: S->R). In MAB this will be a bottleneck\n",
    "# The presure of G_t goes to value function w.r.t to Reinforce algo, nothing more!\n",
    "# We can try ????\n",
    "\n",
    "class ActorCritic(StrategyInterface):\n",
    "    def __init__(self):\n",
    "        super().__init__(\"ActorCritic\")\n",
    "\n",
    "    def get_action(self, cur_state):\n",
    "        pass\n",
    "\n",
    "    def update(self, \n",
    "               cur_state,\n",
    "               action_taken,\n",
    "               action_probability,\n",
    "               reward, \n",
    "               cumm_reward,\n",
    "               cur_time):\n",
    "        pass\n",
    "\n",
    "    def reset(self):\n",
    "        pass"
   ]
  }
 ],
 "metadata": {
  "kernelspec": {
   "display_name": "Python 3 (ipykernel)",
   "language": "python",
   "name": "python3"
  },
  "language_info": {
   "codemirror_mode": {
    "name": "ipython",
    "version": 3
   },
   "file_extension": ".py",
   "mimetype": "text/x-python",
   "name": "python",
   "nbconvert_exporter": "python",
   "pygments_lexer": "ipython3",
   "version": "3.9.6"
  }
 },
 "nbformat": 4,
 "nbformat_minor": 5
}
