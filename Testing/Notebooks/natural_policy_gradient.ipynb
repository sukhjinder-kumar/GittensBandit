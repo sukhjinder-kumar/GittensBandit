{
 "cells": [
  {
   "cell_type": "code",
   "execution_count": null,
   "id": "558c5435-85b1-4886-be52-bdf3f6e6e6ff",
   "metadata": {},
   "outputs": [],
   "source": [
    "import os\n",
    "os.chdir('/Users/sukhmac/Programming/FunCoding/Research/RLProgramming/GittenBandit')  # Set the correct path to your project root"
   ]
  },
  {
   "cell_type": "code",
   "execution_count": null,
   "id": "66f04974-e7e6-491f-a266-358acab2a57c",
   "metadata": {},
   "outputs": [],
   "source": [
    "import numpy as np\n",
    "import torch\n",
    "import torch.nn as nn\n",
    "from torch.optim.adam import Adam\n",
    "\n",
    "from Environment.test_cases import test1, test2, test3\n",
    "from Environment.mab_environment import Mab\n",
    "from Strategies.strategy_interface import StrategyInterface\n",
    "import matplotlib.pyplot as plt\n",
    "from tqdm import tqdm"
   ]
  },
  {
   "cell_type": "code",
   "execution_count": null,
   "id": "49439217-7db2-4a77-b642-62bc8bf4fe9e",
   "metadata": {},
   "outputs": [],
   "source": [
    "# Here we are going to computationally calculate Q-value given policy\n",
    "\n",
    "class NaturalPolicyGradient(StrategyInterface):\n",
    "    def __init__(self):\n",
    "        super().__init__(\"NaturalPolicyGradient\")\n",
    "\n",
    "    def get_action(self, cur_state):\n",
    "        pass\n",
    "\n",
    "    def update(self, \n",
    "               cur_state,\n",
    "               action_taken,\n",
    "               action_probability,\n",
    "               reward, \n",
    "               cumm_reward,\n",
    "               cur_time):\n",
    "        pass\n",
    "\n",
    "    def reset(self):\n",
    "        pass"
   ]
  },
  {
   "cell_type": "code",
   "execution_count": null,
   "id": "cc2edfc5-0c28-4628-b08d-4e6e8836ef2a",
   "metadata": {},
   "outputs": [],
   "source": []
  },
  {
   "cell_type": "code",
   "execution_count": null,
   "id": "3dd0bd9a-3f93-462b-bc87-5d1b6d03df2d",
   "metadata": {},
   "outputs": [],
   "source": []
  },
  {
   "cell_type": "code",
   "execution_count": null,
   "id": "1ffedeba-7b07-4ac5-a73f-e730d64235af",
   "metadata": {},
   "outputs": [],
   "source": []
  },
  {
   "cell_type": "code",
   "execution_count": null,
   "id": "0b1858ab-d56f-41fa-a66a-7c1987153727",
   "metadata": {},
   "outputs": [],
   "source": []
  }
 ],
 "metadata": {
  "kernelspec": {
   "display_name": "Python 3 (ipykernel)",
   "language": "python",
   "name": "python3"
  },
  "language_info": {
   "codemirror_mode": {
    "name": "ipython",
    "version": 3
   },
   "file_extension": ".py",
   "mimetype": "text/x-python",
   "name": "python",
   "nbconvert_exporter": "python",
   "pygments_lexer": "ipython3",
   "version": "3.9.6"
  }
 },
 "nbformat": 4,
 "nbformat_minor": 5
}
